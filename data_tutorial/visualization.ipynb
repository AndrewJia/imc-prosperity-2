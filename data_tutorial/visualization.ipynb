{
 "cells": [
  {
   "cell_type": "code",
   "execution_count": null,
   "metadata": {},
   "outputs": [],
   "source": [
    "import pandas as pd\n",
    "import matplotlib.pyplot as plt"
   ]
  },
  {
   "cell_type": "code",
   "execution_count": null,
   "metadata": {},
   "outputs": [],
   "source": [
    "df = pd.read_csv('/content/3da9e9e6-931e-45aa-bbe9-f9221c488236.csv', index_col=False, sep=';')\n",
    "df = df.drop(columns=['day'])"
   ]
  },
  {
   "cell_type": "code",
   "execution_count": null,
   "metadata": {},
   "outputs": [],
   "source": [
    "amethyst = df[df['product']=='AMETHYSTS']\n",
    "starfruit = df[df['product']=='STARFRUIT']"
   ]
  },
  {
   "cell_type": "code",
   "execution_count": null,
   "metadata": {},
   "outputs": [],
   "source": [
    "fig, ax = plt.subplots()\n",
    "\n",
    "ax.plot(starfruit['timestamp'], starfruit['ask_price_1'], linewidth=1.0)\n",
    "ax.plot(starfruit['timestamp'], starfruit['bid_price_1'], linewidth=1.0)\n",
    "\n",
    "ax.set(xlim=(0, 200000),\n",
    "       ylim=(4900, 5020))\n",
    "\n",
    "\n",
    "plt.show()\n",
    "plt.clf()\n"
   ]
  },
  {
   "cell_type": "code",
   "execution_count": null,
   "metadata": {},
   "outputs": [],
   "source": [
    "fig, ax = plt.subplots()\n",
    "\n",
    "#ax.plot(amethyst['timestamp'], amethyst['mid_price'], linewidth=1.0)\n",
    "ax.plot(amethyst['timestamp'], amethyst['bid_price_1'], linewidth=1.0)\n",
    "ax.plot(amethyst['timestamp'], amethyst['ask_price_1'], linewidth=1.0)\n",
    "\n",
    "ax.set(xlim=(0, 200000),\n",
    "       ylim=(9980, 10020))\n",
    "\n",
    "plt.show()\n",
    "plt.clf()\n"
   ]
  }
 ],
 "metadata": {
  "kernelspec": {
   "display_name": "Python 3",
   "language": "python",
   "name": "python3"
  },
  "language_info": {
   "name": "python",
   "version": "3.12.0"
  }
 },
 "nbformat": 4,
 "nbformat_minor": 2
}
